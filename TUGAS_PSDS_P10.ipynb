{
  "nbformat": 4,
  "nbformat_minor": 0,
  "metadata": {
    "colab": {
      "provenance": []
    },
    "kernelspec": {
      "name": "python3",
      "display_name": "Python 3"
    },
    "language_info": {
      "name": "python"
    }
  },
  "cells": [
    {
      "cell_type": "markdown",
      "source": [
        "Perulangan_For_dan_While"
      ],
      "metadata": {
        "id": "vsm1k6z1Mpvu"
      }
    },
    {
      "cell_type": "code",
      "execution_count": 10,
      "metadata": {
        "colab": {
          "base_uri": "https://localhost:8080/"
        },
        "id": "ASDC8Gl7MUFU",
        "outputId": "0fbaeae7-ae7f-403e-f274-d577e59d8138"
      },
      "outputs": [
        {
          "output_type": "stream",
          "name": "stdout",
          "text": [
            "27\n"
          ]
        }
      ],
      "source": [
        "# Program untuk menghitung jumlah semua angka dalam list\n",
        "L1 = [2, 4, 5, 7, 9]\n",
        "jumlah = 0\n",
        "\n",
        "# iterasi didalam list\n",
        "for i in L1:\n",
        "  jumlah = jumlah + i\n",
        "\n",
        "print(jumlah)"
      ]
    },
    {
      "cell_type": "markdown",
      "source": [
        "The range() function"
      ],
      "metadata": {
        "id": "HKfBVnrsNffH"
      }
    },
    {
      "cell_type": "code",
      "source": [
        "# Program untuk melakukan iterasi didalam list melalui indeks\n",
        "minuman = [\"teh\", \"boba\", \"kopi\", \"susu\"]\n",
        "p = len(minuman)\n",
        "\n",
        "# iterasi didalam list melalui indeks\n",
        "for i in range(p):\n",
        "  print(minuman[i])"
      ],
      "metadata": {
        "colab": {
          "base_uri": "https://localhost:8080/"
        },
        "id": "x-s7eh5DNeNE",
        "outputId": "4b432488-4ccf-4f28-9793-df742778570a"
      },
      "execution_count": 2,
      "outputs": [
        {
          "output_type": "stream",
          "name": "stdout",
          "text": [
            "teh\n",
            "boba\n",
            "kopi\n",
            "susu\n"
          ]
        }
      ]
    },
    {
      "cell_type": "markdown",
      "source": [
        "for loop with else"
      ],
      "metadata": {
        "id": "K94pgkWrOC5K"
      }
    },
    {
      "cell_type": "code",
      "source": [
        "# Contoh for Loop manggunakan else\n",
        "for i in range(p):\n",
        "  print(minuman[i])\n",
        "else:\n",
        "  print(\"Elemen sudah habis\")"
      ],
      "metadata": {
        "colab": {
          "base_uri": "https://localhost:8080/"
        },
        "id": "XB4lBqUVOCFn",
        "outputId": "017c6bcf-9a60-43bd-bd9e-4737a2383011"
      },
      "execution_count": 3,
      "outputs": [
        {
          "output_type": "stream",
          "name": "stdout",
          "text": [
            "teh\n",
            "boba\n",
            "kopi\n",
            "susu\n",
            "Elemen sudah habis\n"
          ]
        }
      ]
    },
    {
      "cell_type": "markdown",
      "source": [
        "Latihan 1\n",
        "\n",
        "Diberikan list_tagihan. Diminta untuk menghitung jumlah seluruh tagihan!\n",
        "\n",
        "list_tagihan = [50000, 75000, -150000, 125000, 300000, -50000, 200000]"
      ],
      "metadata": {
        "id": "eVBn9zUROeb2"
      }
    },
    {
      "cell_type": "code",
      "source": [
        "# For Loop\n",
        "tagihan  = [50000, 75000, -150000, 125000, 300000, -50000, 200000]\n",
        "total_tagihan = 0\n",
        "\n",
        " # iterasi didalam list\n",
        "for i in tagihan:\n",
        "   total_tagihan = total_tagihan + i\n",
        "\n",
        "print(total_tagihan)"
      ],
      "metadata": {
        "colab": {
          "base_uri": "https://localhost:8080/"
        },
        "id": "zNsC3BxdOdc8",
        "outputId": "b1d145c0-c761-43b2-b289-76ec32273813"
      },
      "execution_count": 4,
      "outputs": [
        {
          "output_type": "stream",
          "name": "stdout",
          "text": [
            "550000\n"
          ]
        }
      ]
    },
    {
      "cell_type": "code",
      "source": [
        "# Program untuk menjumlahkan semua\n",
        "# bilangan asli hingga suku ke-n\n",
        "# jum = 1+2+3+...+n\n",
        "\n",
        "n = 10\n",
        "jumlah = 0\n",
        "i = 1\n",
        "\n",
        "while i <=n:\n",
        "  jumlah = jumlah + i\n",
        "  i = i + 1\n",
        "\n",
        "print(jumlah)"
      ],
      "metadata": {
        "colab": {
          "base_uri": "https://localhost:8080/"
        },
        "id": "CexN7LhXQAQv",
        "outputId": "894ccc7a-0c05-4473-96f8-f80c521baafa"
      },
      "execution_count": 11,
      "outputs": [
        {
          "output_type": "stream",
          "name": "stdout",
          "text": [
            "55\n"
          ]
        }
      ]
    },
    {
      "cell_type": "markdown",
      "source": [
        "While loop with else"
      ],
      "metadata": {
        "id": "yCX8iQJnVGO-"
      }
    },
    {
      "cell_type": "code",
      "source": [
        "jum = 0\n",
        "i = 1\n",
        "while i <= n:\n",
        "  jum = jum + i\n",
        "  i = i + 1\n",
        "else:\n",
        "  print(jum)"
      ],
      "metadata": {
        "colab": {
          "base_uri": "https://localhost:8080/"
        },
        "id": "lQAtEn-aUslm",
        "outputId": "4435046a-887f-447f-9a6d-4ebae8d57f13"
      },
      "execution_count": 12,
      "outputs": [
        {
          "output_type": "stream",
          "name": "stdout",
          "text": [
            "55\n"
          ]
        }
      ]
    },
    {
      "cell_type": "markdown",
      "source": [
        "Latihan 2\n",
        "\n",
        "Diberikan list tagihan, hitunglah total_tagihan menggunakan while loop.\n",
        "\n",
        "tagihan = [50000, 75000, 125000, 300000, 200000]"
      ],
      "metadata": {
        "id": "KB5KyUtvVOPj"
      }
    },
    {
      "cell_type": "code",
      "source": [
        "# while loop\n",
        "\n",
        "tagihan = [50000, 75000, 125000, 300000, 200000]\n",
        "\n",
        "i = 0\n",
        "jumlah_tagihan = len(tagihan)\n",
        "total_tagihan  = 0\n",
        "\n",
        "while i < jumlah_tagihan:\n",
        "  total_tagihan = total_tagihan + tagihan[i]\n",
        "  i = i + 1\n",
        "\n",
        "print(total_tagihan)"
      ],
      "metadata": {
        "colab": {
          "base_uri": "https://localhost:8080/"
        },
        "id": "6k8Uy5VBVMo-",
        "outputId": "1ddfabb2-aeb2-4fe0-ce07-d363e9b2c066"
      },
      "execution_count": 13,
      "outputs": [
        {
          "output_type": "stream",
          "name": "stdout",
          "text": [
            "750000\n"
          ]
        }
      ]
    },
    {
      "cell_type": "markdown",
      "source": [
        "Percabangan/Struktur Pemilihan"
      ],
      "metadata": {
        "id": "fClJZ4ESW43Z"
      }
    },
    {
      "cell_type": "code",
      "source": [
        "# Jika angka adalah bilangan positif maka print \"adalah bilangan positif\"\n",
        "\n",
        "angka = 3\n",
        "if angka > 0:\n",
        "  print(angka,\"adalah bilangan positif.\")\n",
        "print(\"pernyataan ini selalu ditampilkan.\")\n",
        "\n",
        "angka = -1\n",
        "if angka > 0:\n",
        "  print(angka,\"adalah bilangan positif\")\n",
        "print(\"pernyataan ini selalu ditampilkan\")"
      ],
      "metadata": {
        "colab": {
          "base_uri": "https://localhost:8080/"
        },
        "id": "1VjLkMjrWChT",
        "outputId": "590d4f70-96c9-4f5a-dcbf-f5d167dbb9a2"
      },
      "execution_count": 14,
      "outputs": [
        {
          "output_type": "stream",
          "name": "stdout",
          "text": [
            "3 adalah bilangan positif.\n",
            "pernyataan ini selalu ditampilkan.\n",
            "pernyataan ini selalu ditampilkan\n"
          ]
        }
      ]
    },
    {
      "cell_type": "markdown",
      "source": [
        "Example: Python IF ELSE Statemen"
      ],
      "metadata": {
        "id": "TFe1u3JIX7de"
      }
    },
    {
      "cell_type": "code",
      "source": [
        "# Program disusun untuk mengecek apakah program tersebut kurang dari 0 atau tidak\n",
        "# dan menampilkan tulisan yang sesuai\n",
        "\n",
        "angka = 3\n",
        "\n",
        "if angka >= 0:\n",
        "  print(\"Bilangan lebih dari atau sama dengan 0\")\n",
        "else:\n",
        "  print(\"Bilangan kurang dari 0\")"
      ],
      "metadata": {
        "colab": {
          "base_uri": "https://localhost:8080/"
        },
        "id": "Fufw5v-KX4ED",
        "outputId": "fc3a2c69-1e16-4b84-ffb5-5f9944b3ac6e"
      },
      "execution_count": 16,
      "outputs": [
        {
          "output_type": "stream",
          "name": "stdout",
          "text": [
            "Bilangan lebih dari atau sama dengan 0\n"
          ]
        }
      ]
    },
    {
      "cell_type": "code",
      "source": [
        "# Program disusun untuk mengecek apakah dua buah angka sama atau tidak\n",
        " # dan menampilkan tulisan yang sesuai\n",
        "\n",
        "a = 5\n",
        "b = 5\n",
        "\n",
        "if a==b:\n",
        "  print(\"a dan b bernilai sama\")\n",
        "else:\n",
        "  print(\"a dan b bernilai berbeda\")\n",
        "  print(\"Belajar If Else\")"
      ],
      "metadata": {
        "colab": {
          "base_uri": "https://localhost:8080/"
        },
        "id": "d-I4E4kiYMIi",
        "outputId": "09d99143-b2ca-4a21-e9f3-3ab324aead1e"
      },
      "execution_count": 17,
      "outputs": [
        {
          "output_type": "stream",
          "name": "stdout",
          "text": [
            "a dan b bernilai sama\n"
          ]
        }
      ]
    },
    {
      "cell_type": "code",
      "source": [
        "# Program disusun untuk mengecek apakah perbandingan dua buah angka\n",
        "# dan menampilkan tulisan yang sesuai\n",
        "\n",
        "# membaca dua angka\n",
        "bil1 = int(input(\"Masukkan bilangan pertama:\"))\n",
        "bil2 = int(input(\"Masukkan bilangan kedua:\"))\n",
        "\n",
        "# memilih bilangan yang lebih besar\n",
        "if bil1 > bil2:\n",
        "  bil_lebih_besar = bil1\n",
        "else:\n",
        "  bil_lebih_besar = bil2\n",
        "\n",
        "# menampilkan hasil\n",
        "print(\"Bilangan yang lebih besar adalah:\",bil_lebih_besar)"
      ],
      "metadata": {
        "colab": {
          "base_uri": "https://localhost:8080/"
        },
        "id": "tvHBna66YaRT",
        "outputId": "48db04b3-413d-48b1-94fd-68290737c628"
      },
      "execution_count": 1,
      "outputs": [
        {
          "output_type": "stream",
          "name": "stdout",
          "text": [
            "Masukkan bilangan pertama:3\n",
            "Masukkan bilangan kedua:5\n",
            "Bilangan yang lebih besar adalah: 5\n"
          ]
        }
      ]
    },
    {
      "cell_type": "markdown",
      "source": [
        "Example: Python IF ELIF ELSE Statement"
      ],
      "metadata": {
        "id": "VOrCGpohZKnX"
      }
    },
    {
      "cell_type": "code",
      "source": [
        "# Program disusun untuk mengecek apakah angka merupakan bilangan positif, negatif atau nol\n",
        "# dan menampilkan tulisan yang sesuai\n",
        "\n",
        "angka = 3.4\n",
        "\n",
        "if angka > 0:\n",
        "  print(\"Bilangan Positif\")\n",
        "elif num == 0:\n",
        "  print(\"Nol\")\n",
        "else:\n",
        "  print(\"Bilangan Negatif\")"
      ],
      "metadata": {
        "colab": {
          "base_uri": "https://localhost:8080/"
        },
        "id": "4tDJrMW0ZI4D",
        "outputId": "aa24239b-f271-48b8-97c2-70f77231c3b5"
      },
      "execution_count": 4,
      "outputs": [
        {
          "output_type": "stream",
          "name": "stdout",
          "text": [
            "Bilangan Positif\n"
          ]
        }
      ]
    },
    {
      "cell_type": "code",
      "source": [
        "# Statement if\n",
        "x = 4\n",
        "if x % 2 == 0:    #jika x dibagi 2 sisanya samadengan 0\n",
        "  print(\"x habis dibagi dua\")\n",
        "\n",
        "# Statement if...elif...else\n",
        "x = 7\n",
        "if x % 2 == 0: #jika x dibagi 2 sisanya samadengan 0\n",
        "  print(\"x habis dibagi dua\")\n",
        "elif x % 3 == 0: #jika x dibagi 3 sisanya samadengan 0\n",
        "  print(\"x habis dibagi tiga\")\n",
        "elif x % 5 == 0: #jika x dibagi 5 sisanya samadengan 0\n",
        "  print(\"x habis dibagi lima\")\n",
        "else:\n",
        "  print(\"x tidak habis dibagi dua, tiga ataupun lima\")"
      ],
      "metadata": {
        "colab": {
          "base_uri": "https://localhost:8080/"
        },
        "id": "RI5xt5CBZfrP",
        "outputId": "1aa380c9-dd45-49d5-c817-6ea45cb9f247"
      },
      "execution_count": 6,
      "outputs": [
        {
          "output_type": "stream",
          "name": "stdout",
          "text": [
            "x habis dibagi dua\n",
            "x tidak habis dibagi dua, tiga ataupun lima\n"
          ]
        }
      ]
    },
    {
      "cell_type": "code",
      "source": [
        "# Program disusun untuk mengecek apakah angka merupakan bilangn positif, negatif atau nol\n",
        "# dan menampilkan tulisan yang sesuai\n",
        "\n",
        "angka = float(input(\"Masukkan angka:\"))\n",
        "if angka >= 0:\n",
        "  if angka == 0:\n",
        "    print(\"Nol\")\n",
        "  else:\n",
        "    print(\"Bilangan Positif\")\n",
        "else:\n",
        "  print(\"Bilangan Negatif\")"
      ],
      "metadata": {
        "colab": {
          "base_uri": "https://localhost:8080/"
        },
        "id": "Pl97W9nLZ2qY",
        "outputId": "4de49d87-0332-4a9e-d864-7bd58f6c8d4c"
      },
      "execution_count": 7,
      "outputs": [
        {
          "output_type": "stream",
          "name": "stdout",
          "text": [
            "Masukkan angka:4\n",
            "Bilangan Positif\n"
          ]
        }
      ]
    },
    {
      "cell_type": "markdown",
      "source": [
        "Latihan\n",
        "\n",
        "Buatlah sebuah fungsi \"Mahal_Diskon\" dengan ketentuan:\n",
        "*   Input berupa harga produk dengan tipe data numerik tunggal\n",
        "*   Kategori input adalah \"Murah\" dan \"Mahal\", kemudian diskon ada 3 kategori \"10%\",\"20%\",dan \"40%\"\n",
        "*   Output pertama sebuah teks/string yang menyatakan \"Mahal\" atau \"Murah\"dan keterangan \"Kamu dapat DIskon...\"\n",
        "*   Output keduua adalah harga yang perlu dibayarkan\n"
      ],
      "metadata": {
        "id": "xL4mfVIXaIv3"
      }
    },
    {
      "cell_type": "code",
      "source": [
        "Harga = float(input(\"harga:\"))\n",
        "\n",
        "if Harga <= 100000:\n",
        "  print(\"Murah\")\n",
        "else:\n",
        "  print(\"Mahal\")\n",
        "\n",
        "print(\"kamu mendapat diskon:\")"
      ],
      "metadata": {
        "colab": {
          "base_uri": "https://localhost:8080/"
        },
        "id": "jvIofOiNaHfM",
        "outputId": "22e57b1d-f528-4338-b4fe-61b9196b2edd"
      },
      "execution_count": 9,
      "outputs": [
        {
          "output_type": "stream",
          "name": "stdout",
          "text": [
            "harga:99000\n",
            "Murah\n",
            "kamu mendapat diskon:\n"
          ]
        }
      ]
    },
    {
      "cell_type": "code",
      "source": [
        "harga = float(input(\"harga:\"))\n",
        "\n",
        "if harga < 500000:\n",
        "  print(\"Kamu mendapat diskon 10%\")\n",
        "  print(\"Kamu hanya perlu membayar:\",harga*10/100)\n",
        "elif harga < 800000:\n",
        "  print(\"Kamu mendapat diskon 20%\")\n",
        "  print(\"Kamu hanya perlu membayar:\",harga*20/100)\n",
        "elif harga > 800000:\n",
        "  print(\"Kamu mendapat diskon 30%\")\n",
        "  print(\"Kamu hanya perlu membayar:\",harga*30/100)\n",
        "else:\n",
        "  print(\"Kamu tidak mendapat diskon\")"
      ],
      "metadata": {
        "colab": {
          "base_uri": "https://localhost:8080/"
        },
        "id": "BFWMn24ubA7h",
        "outputId": "6cc6b7db-e150-446e-e219-98b88c2b53ce"
      },
      "execution_count": 10,
      "outputs": [
        {
          "output_type": "stream",
          "name": "stdout",
          "text": [
            "harga:100000\n",
            "Kamu mendapat diskon 10%\n",
            "Kamu hanya perlu membayar: 10000.0\n"
          ]
        }
      ]
    }
  ]
}