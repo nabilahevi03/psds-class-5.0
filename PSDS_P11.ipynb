{
  "nbformat": 4,
  "nbformat_minor": 0,
  "metadata": {
    "colab": {
      "provenance": []
    },
    "kernelspec": {
      "name": "python3",
      "display_name": "Python 3"
    },
    "language_info": {
      "name": "python"
    }
  },
  "cells": [
    {
      "cell_type": "markdown",
      "source": [
        "Buatlah Function phytagoras dengan input argumennya panjang tinggi dan alas segitiga untuk menghasilkan output nilai panjang sisi miring!"
      ],
      "metadata": {
        "id": "FhUVflOErRPz"
      }
    },
    {
      "cell_type": "code",
      "execution_count": 1,
      "metadata": {
        "colab": {
          "base_uri": "https://localhost:8080/"
        },
        "id": "UHWz2FM7pAIj",
        "outputId": "cff874d0-a5c4-4ccd-9573-84b031a69070"
      },
      "outputs": [
        {
          "output_type": "stream",
          "name": "stdout",
          "text": [
            "Sisi miring segitiga:  3.7416573867739413\n"
          ]
        }
      ],
      "source": [
        "import math\n",
        "def hitung_sisi_miring(panjang_tinggi, alas):\n",
        "    sisi_miring = math.sqrt(panjang_tinggi*2 + alas*2)\n",
        "    return sisi_miring\n",
        "\n",
        "tinggi = 3\n",
        "alas = 4\n",
        "sisi_miring = hitung_sisi_miring(tinggi, alas)\n",
        "print(\"Sisi miring segitiga: \", sisi_miring)"
      ]
    },
    {
      "cell_type": "markdown",
      "source": [
        "Buatlah Function luas permukaan balok dengan input argumennya panjang, lebar, dan tinggi dari balok untuk menghasilkan output nilai luas permukaan balok tersebut!"
      ],
      "metadata": {
        "id": "dRVig8GbrtK6"
      }
    },
    {
      "cell_type": "code",
      "source": [
        "def hitung_luas_permukaan_balok(panjang, lebar, tinggi):\n",
        "    luas_permukaan = 2 * ((panjang * lebar) + (panjang * tinggi) + (lebar * tinggi))\n",
        "    return luas_permukaan\n",
        "\n",
        "panjang = 10\n",
        "lebar = 5\n",
        "tinggi = 4\n",
        "luas = hitung_luas_permukaan_balok(panjang, lebar, tinggi)\n",
        "print(\"Luas permukaan balok:\", luas)"
      ],
      "metadata": {
        "colab": {
          "base_uri": "https://localhost:8080/"
        },
        "id": "Vfmmi0LQppWA",
        "outputId": "a22bcb68-0d9b-48e1-b62a-8f199d44936f"
      },
      "execution_count": 2,
      "outputs": [
        {
          "output_type": "stream",
          "name": "stdout",
          "text": [
            "Luas permukaan balok: 220\n"
          ]
        }
      ]
    },
    {
      "cell_type": "markdown",
      "source": [
        "Buatlah fungsi lambda untuk menghitung fungsi dari persegi panjang!"
      ],
      "metadata": {
        "id": "7BBT0BYtsFbC"
      }
    },
    {
      "cell_type": "code",
      "source": [
        "f = lambda p,l : p*l\n",
        "val5 = f(15,10)\n",
        "print(val5)"
      ],
      "metadata": {
        "colab": {
          "base_uri": "https://localhost:8080/"
        },
        "id": "lmY8-azyqznH",
        "outputId": "daf57f10-7d62-4944-9fc7-04e0e9eae0b5"
      },
      "execution_count": 3,
      "outputs": [
        {
          "output_type": "stream",
          "name": "stdout",
          "text": [
            "150\n"
          ]
        }
      ]
    },
    {
      "cell_type": "markdown",
      "source": [
        "Buatlah fungsi lambda untuk menghitung luas dari segitiga!"
      ],
      "metadata": {
        "id": "bwAgk3P2sYiK"
      }
    },
    {
      "cell_type": "code",
      "source": [
        "f = lambda a,t : (a*t)/2\n",
        "val6 = f(5,10)\n",
        "print(val6)"
      ],
      "metadata": {
        "colab": {
          "base_uri": "https://localhost:8080/"
        },
        "id": "2j3eYx8Wq6fU",
        "outputId": "2300db4d-3228-48cd-f863-84bb919fd672"
      },
      "execution_count": 4,
      "outputs": [
        {
          "output_type": "stream",
          "name": "stdout",
          "text": [
            "25.0\n"
          ]
        }
      ]
    }
  ]
}