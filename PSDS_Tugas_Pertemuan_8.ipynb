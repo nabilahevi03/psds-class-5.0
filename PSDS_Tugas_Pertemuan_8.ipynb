{
  "nbformat": 4,
  "nbformat_minor": 0,
  "metadata": {
    "colab": {
      "provenance": []
    },
    "kernelspec": {
      "name": "python3",
      "display_name": "Python 3"
    },
    "language_info": {
      "name": "python"
    }
  },
  "cells": [
    {
      "cell_type": "markdown",
      "source": [
        "Struktur Data Tuple"
      ],
      "metadata": {
        "id": "mPkH3ABHzwcQ"
      }
    },
    {
      "cell_type": "code",
      "execution_count": null,
      "metadata": {
        "colab": {
          "base_uri": "https://localhost:8080/"
        },
        "id": "hcYJ7o8kzsEs",
        "outputId": "144b8d85-6606-447b-e3a5-95e09d4e3d96"
      },
      "outputs": [
        {
          "output_type": "stream",
          "name": "stdout",
          "text": [
            "ini adalah tuple (1, 'dua', True, (1+2j))\n"
          ]
        }
      ],
      "source": [
        "#Contoh Tuple\n",
        "T1 = (1, \"dua\", True, 1+2j)\n",
        "print(\"ini adalah tuple\", T1)"
      ]
    },
    {
      "cell_type": "code",
      "source": [
        "T11 = 1,\"dua\", True, 1+2j\n",
        "print(\"ini adalah tuple\", T11)"
      ],
      "metadata": {
        "colab": {
          "base_uri": "https://localhost:8080/"
        },
        "id": "e-cg4_s20Loy",
        "outputId": "c35e9947-0b48-4285-8be4-d098f3df490e"
      },
      "execution_count": null,
      "outputs": [
        {
          "output_type": "stream",
          "name": "stdout",
          "text": [
            "ini adalah tuple (1, 'dua', True, (1+2j))\n"
          ]
        }
      ]
    },
    {
      "cell_type": "code",
      "source": [
        "#Menampilkan tipe struktur data\n",
        "type(T1)"
      ],
      "metadata": {
        "colab": {
          "base_uri": "https://localhost:8080/"
        },
        "id": "UuKZj6uS0d-F",
        "outputId": "a55247c1-0298-410f-e0df-4f8943ee8955"
      },
      "execution_count": null,
      "outputs": [
        {
          "output_type": "execute_result",
          "data": {
            "text/plain": [
              "tuple"
            ]
          },
          "metadata": {},
          "execution_count": 3
        }
      ]
    },
    {
      "cell_type": "code",
      "source": [
        "type(T11)"
      ],
      "metadata": {
        "colab": {
          "base_uri": "https://localhost:8080/"
        },
        "id": "cCF8A5KM0mNE",
        "outputId": "40bd6a18-52cb-4d3d-a1c9-89a3fa91b173"
      },
      "execution_count": null,
      "outputs": [
        {
          "output_type": "execute_result",
          "data": {
            "text/plain": [
              "tuple"
            ]
          },
          "metadata": {},
          "execution_count": 4
        }
      ]
    },
    {
      "cell_type": "markdown",
      "source": [
        "Sifat-sifat Tuple"
      ],
      "metadata": {
        "id": "ft5J0tl40vix"
      }
    },
    {
      "cell_type": "code",
      "source": [
        "#Terurut/Ordered\n",
        "T1[0:3]"
      ],
      "metadata": {
        "colab": {
          "base_uri": "https://localhost:8080/"
        },
        "id": "64LxG5Tv0tYH",
        "outputId": "7917b64c-6275-4f75-e200-e9a8fac3212a"
      },
      "execution_count": null,
      "outputs": [
        {
          "output_type": "execute_result",
          "data": {
            "text/plain": [
              "(1, 'dua', True)"
            ]
          },
          "metadata": {},
          "execution_count": 5
        }
      ]
    },
    {
      "cell_type": "code",
      "source": [
        "#Dapat Diindeks/Slicing\n",
        "print(\"elemen kedua dari tuple T1 adalah: \", T1[1])"
      ],
      "metadata": {
        "colab": {
          "base_uri": "https://localhost:8080/"
        },
        "id": "GCf0TmzS078G",
        "outputId": "16755c95-5272-44fe-e38b-a7ef4cf0969b"
      },
      "execution_count": null,
      "outputs": [
        {
          "output_type": "stream",
          "name": "stdout",
          "text": [
            "elemen kedua dari tuple T1 adalah:  dua\n"
          ]
        }
      ]
    },
    {
      "cell_type": "code",
      "source": [
        "#Dapat Diijinkan Duplikasi\n",
        "T2 = (3, 2.4, True, 2.4)\n",
        "T2"
      ],
      "metadata": {
        "colab": {
          "base_uri": "https://localhost:8080/"
        },
        "id": "-J8FqDNn2XLr",
        "outputId": "d7afef5c-63c6-4760-818f-7519befd92f9"
      },
      "execution_count": null,
      "outputs": [
        {
          "output_type": "execute_result",
          "data": {
            "text/plain": [
              "(3, 2.4, True, 2.4)"
            ]
          },
          "metadata": {},
          "execution_count": 8
        }
      ]
    },
    {
      "cell_type": "code",
      "source": [
        "#tidak dapat menambahkan elemen baru\n",
        "T1 = (1, \"dua\", True, 1+2j)\n",
        "print(f' tuple\\t: {T1}')"
      ],
      "metadata": {
        "colab": {
          "base_uri": "https://localhost:8080/"
        },
        "id": "Zjjn6SgS2pBn",
        "outputId": "c2d8f84b-de4f-4c5f-cb0a-451e8edbef2f"
      },
      "execution_count": null,
      "outputs": [
        {
          "output_type": "stream",
          "name": "stdout",
          "text": [
            " tuple\t: (1, 'dua', True, (1+2j))\n"
          ]
        }
      ]
    },
    {
      "cell_type": "code",
      "source": [
        "#tidak dapat menghapus elemen\n",
        "T1 = (1, \"dua\", True, 1+2j)\n",
        "print(f' tuple\\t: {T1}')"
      ],
      "metadata": {
        "colab": {
          "base_uri": "https://localhost:8080/"
        },
        "id": "mT33XbC53KR3",
        "outputId": "5bc75098-7a6a-4d88-a1e1-35adc3233576"
      },
      "execution_count": null,
      "outputs": [
        {
          "output_type": "stream",
          "name": "stdout",
          "text": [
            " tuple\t: (1, 'dua', True, (1+2j))\n"
          ]
        }
      ]
    },
    {
      "cell_type": "markdown",
      "source": [
        "Menggabungkan tuple"
      ],
      "metadata": {
        "id": "2e2Jrq5w3zw-"
      }
    },
    {
      "cell_type": "code",
      "source": [
        "#Menggabungkan Tuple\n",
        "T3 = T1 + T2\n",
        "T3"
      ],
      "metadata": {
        "colab": {
          "base_uri": "https://localhost:8080/"
        },
        "id": "7hXeCRtk3px0",
        "outputId": "2e439a65-3544-4510-833d-1eb6291b2f90"
      },
      "execution_count": null,
      "outputs": [
        {
          "output_type": "execute_result",
          "data": {
            "text/plain": [
              "(1, 'dua', True, (1+2j), 3, 2.4, True, 2.4)"
            ]
          },
          "metadata": {},
          "execution_count": 11
        }
      ]
    },
    {
      "cell_type": "markdown",
      "source": [
        "Latihan"
      ],
      "metadata": {
        "id": "EqYbyDox32s9"
      }
    },
    {
      "cell_type": "code",
      "source": [
        "#Buatlah tuplemu sendiri\n",
        "Ll = (3, \"Nabilah\", True, 3+5j)\n",
        "print(Ll)"
      ],
      "metadata": {
        "id": "OQD80cG23ysA",
        "colab": {
          "base_uri": "https://localhost:8080/"
        },
        "outputId": "5f19fae2-fce8-4640-e63a-cd934f4911be"
      },
      "execution_count": 1,
      "outputs": [
        {
          "output_type": "stream",
          "name": "stdout",
          "text": [
            "(3, 'Nabilah', True, (3+5j))\n"
          ]
        }
      ]
    },
    {
      "cell_type": "markdown",
      "source": [
        "Latihan 2"
      ],
      "metadata": {
        "id": "uryL2rHR3_oj"
      }
    },
    {
      "cell_type": "code",
      "source": [
        "#Buatlah tuple kedua lalu gabungkan 2 tuple yang telah dibuat\n",
        "Ll = (3, \"Nabilah\", True, 3+5j)\n",
        "print(Ll)\n",
        "\n",
        "Ln = (4, \"Beauty\", False, 4+3j)\n",
        "print(Ln)"
      ],
      "metadata": {
        "id": "ea0uN-4H396n",
        "colab": {
          "base_uri": "https://localhost:8080/"
        },
        "outputId": "403e524c-2775-47df-cde6-27dedb494368"
      },
      "execution_count": 3,
      "outputs": [
        {
          "output_type": "stream",
          "name": "stdout",
          "text": [
            "(3, 'Nabilah', True, (3+5j))\n",
            "(4, 'Beauty', False, (4+3j))\n"
          ]
        }
      ]
    },
    {
      "cell_type": "markdown",
      "source": [
        "Struktur Data List"
      ],
      "metadata": {
        "id": "vldsi9wiBGcr"
      }
    },
    {
      "cell_type": "code",
      "source": [
        "#Contoh List\n",
        "L1 = [1, 4, 2, 13]\n",
        "print(type(L1))"
      ],
      "metadata": {
        "colab": {
          "base_uri": "https://localhost:8080/"
        },
        "id": "_kQCA8mjBCg2",
        "outputId": "1a8f383f-f74c-4bd1-8381-8836916c48f5"
      },
      "execution_count": null,
      "outputs": [
        {
          "output_type": "stream",
          "name": "stdout",
          "text": [
            "<class 'list'>\n"
          ]
        }
      ]
    },
    {
      "cell_type": "code",
      "source": [
        "L2 = [\"a\", \"Python\", 3]\n",
        "\n",
        "print(type(L2))"
      ],
      "metadata": {
        "colab": {
          "base_uri": "https://localhost:8080/"
        },
        "id": "mMptY9xZBq17",
        "outputId": "d7196ee3-17df-4e61-a4e3-8fbb8b72d92c"
      },
      "execution_count": null,
      "outputs": [
        {
          "output_type": "stream",
          "name": "stdout",
          "text": [
            "<class 'list'>\n"
          ]
        }
      ]
    },
    {
      "cell_type": "code",
      "source": [
        "print(L1)\n",
        "print(L2)"
      ],
      "metadata": {
        "colab": {
          "base_uri": "https://localhost:8080/"
        },
        "id": "XVrpUZCgB1Xi",
        "outputId": "42a678dc-488d-42cc-ff75-2f6c22688526"
      },
      "execution_count": null,
      "outputs": [
        {
          "output_type": "stream",
          "name": "stdout",
          "text": [
            "[1, 4, 2, 13]\n",
            "['a', 'Python', 3]\n"
          ]
        }
      ]
    },
    {
      "cell_type": "markdown",
      "source": [
        "Indeks di python(List, Tuple)mulai dari 0"
      ],
      "metadata": {
        "id": "VbGfY7L7B8Fh"
      }
    },
    {
      "cell_type": "code",
      "source": [
        "#Sifat-sifat List\n",
        "\n",
        "#Terurut/Ordered\n",
        "print(\"Memanggil List L1 dengan indeks urutan:\", L1[0:3])\n",
        "\n",
        "#Bisa Diganti/Mutable\n",
        "L1[1] = 2\n",
        "print(\"List L1 setelah diganti elemennya:\", L1)\n",
        "\n",
        "L1 = [1, \"dua\", True, 2+3j]\n",
        "\n",
        "#Dapat Diindeks/Slicing\n",
        "print(\"Slicing List L1:\", L1[3])\n",
        "\n",
        "#Dapat diijinkan Duplikasi\n",
        "L1 = [1, \"dua\", True, 2+3j, 2+3j]\n",
        "print(\"Duplikasi pada list L1:\", L1)\n",
        "\n",
        "#Dapat mengubah data dengan mengganti elemen tertentu\n",
        "L1 = [1, \"dua\", True, 2+3j]\n",
        "L1[2]=3\n",
        "print(\"Data setelah diubah:\", L1)\n",
        "\n",
        "#Dapat menambahkan elemen baru pada data\n",
        "L1 = [1, \"dua\", True, 2+3j]\n",
        "L1.append(20)\n",
        "print(\"Data setelah ditambahkan elemennya:\", L1)\n",
        "\n",
        "#Dapat menghapus elemen pada data (remove() = menghapus berdasarkan nama objek)\n",
        "L1 = [1, \"dua\", True, 2+3j]\n",
        "L1.remove(2+3j)\n",
        "print(\"Data setelah dihapus elemennya:\", L1)"
      ],
      "metadata": {
        "colab": {
          "base_uri": "https://localhost:8080/"
        },
        "id": "9d-uoGxUB7SI",
        "outputId": "4a26e139-cf39-49fe-97e1-745ff73df27a"
      },
      "execution_count": null,
      "outputs": [
        {
          "output_type": "stream",
          "name": "stdout",
          "text": [
            "Memanggil List L1 dengan indeks urutan: [1, 4, 2]\n",
            "List L1 setelah diganti elemennya: [1, 2, 2, 13]\n",
            "Slicing List L1: (2+3j)\n",
            "Duplikasi pada list L1: [1, 'dua', True, (2+3j), (2+3j)]\n",
            "Data setelah diubah: [1, 'dua', 3, (2+3j)]\n",
            "Data setelah ditambahkan elemennya: [1, 'dua', True, (2+3j), 20]\n",
            "Data setelah dihapus elemennya: [1, 'dua', True]\n"
          ]
        }
      ]
    },
    {
      "cell_type": "code",
      "source": [
        "#menambahkan data menggunakan fungsi extend(menambahkan elemen baru pada list namun elemen tersebut ditambahkan secara individual)\n",
        "\n",
        "L1 =[1, \"dua\", True, 2+3j]\n",
        "L1.extend(\"nanas\")\n",
        "print(L1)"
      ],
      "metadata": {
        "colab": {
          "base_uri": "https://localhost:8080/"
        },
        "id": "IRsS3zQMF2bL",
        "outputId": "b41c8408-c3ac-411b-c45a-23dfed3faea5"
      },
      "execution_count": null,
      "outputs": [
        {
          "output_type": "stream",
          "name": "stdout",
          "text": [
            "[1, 'dua', True, (2+3j), 'n', 'a', 'n', 'a', 's']\n"
          ]
        }
      ]
    },
    {
      "cell_type": "code",
      "source": [
        "L1 = L1 =[1, \"dua\", True, 2+3j]\n",
        "L1.extend([\"nanas\"])\n",
        "print(L1)"
      ],
      "metadata": {
        "colab": {
          "base_uri": "https://localhost:8080/"
        },
        "id": "Au7Om4ZRV29H",
        "outputId": "91b54023-ff7f-4eec-c7bd-d5e3e6aec08f"
      },
      "execution_count": null,
      "outputs": [
        {
          "output_type": "stream",
          "name": "stdout",
          "text": [
            "[1, 'dua', True, (2+3j), 'nanas']\n"
          ]
        }
      ]
    },
    {
      "cell_type": "code",
      "source": [
        "#menambahkan data menggunakan fungsi insert(menambahkan elemen baru di list pada indeks tertentu)\n",
        "L1 =[1, \"dua\", True, 2+3j]\n",
        "L1.insert(2, 5)\n",
        "print(L1)"
      ],
      "metadata": {
        "colab": {
          "base_uri": "https://localhost:8080/"
        },
        "id": "5PwoUUCHWauz",
        "outputId": "79a85b2e-91a2-4f11-9454-2328014183e4"
      },
      "execution_count": null,
      "outputs": [
        {
          "output_type": "stream",
          "name": "stdout",
          "text": [
            "[1, 'dua', 5, True, (2+3j)]\n"
          ]
        }
      ]
    },
    {
      "cell_type": "code",
      "source": [
        "#menghapus elemen dari list menggunakan fungsi pop() (menghapus berdasarkan indeks)\n",
        "L1 =[1, \"dua\", True, 2+3j]\n",
        "L1.pop(2)\n",
        "print(L1)"
      ],
      "metadata": {
        "colab": {
          "base_uri": "https://localhost:8080/"
        },
        "id": "3W0NZhceXShL",
        "outputId": "27fa58de-cbba-461c-bad8-a401ef95ea6f"
      },
      "execution_count": null,
      "outputs": [
        {
          "output_type": "stream",
          "name": "stdout",
          "text": [
            "[1, 'dua', (2+3j)]\n"
          ]
        }
      ]
    },
    {
      "cell_type": "code",
      "source": [
        "L1 =[1, \"dua\", True, 2+3j]\n",
        "L1.pop()\n",
        "print(L1)"
      ],
      "metadata": {
        "colab": {
          "base_uri": "https://localhost:8080/"
        },
        "id": "3llQUje-X5ej",
        "outputId": "dda18923-a100-4c3b-d38c-ec0f4fcdb849"
      },
      "execution_count": null,
      "outputs": [
        {
          "output_type": "stream",
          "name": "stdout",
          "text": [
            "[1, 'dua', True]\n"
          ]
        }
      ]
    },
    {
      "cell_type": "markdown",
      "source": [
        "Latihan 1"
      ],
      "metadata": {
        "id": "CGDD_0nBYUmc"
      }
    },
    {
      "cell_type": "code",
      "source": [
        "#Buatlah List kalian sendiri\n",
        "L3 = [1, \"satu\", True, 3+5j]\n",
        "print(L3)"
      ],
      "metadata": {
        "id": "dlpUOckCYPvZ",
        "colab": {
          "base_uri": "https://localhost:8080/"
        },
        "outputId": "1609ca6b-9470-4c5f-d8cd-b07662edab81"
      },
      "execution_count": 4,
      "outputs": [
        {
          "output_type": "stream",
          "name": "stdout",
          "text": [
            "[1, 'satu', True, (3+5j)]\n"
          ]
        }
      ]
    },
    {
      "cell_type": "markdown",
      "source": [
        "Latihan 2"
      ],
      "metadata": {
        "id": "sLVcT_wzYbDm"
      }
    },
    {
      "cell_type": "code",
      "source": [
        "#Ganti elemen yang ada pada List yang kalian\n",
        "print(\"Memanggil List L3 dengan indeks urutan:\", L3[0:3])\n",
        "\n",
        "L3[1] = 2\n",
        "\n",
        "print(\"List L3 setelah diganti elemennya:\", L3)\n",
        "\n",
        "L3 = [1, \"satu\", True, 3+5j]\n",
        "\n",
        "print(\"Slicing List L3:\", L3[3])\n",
        "\n",
        "L3 = [1, \"satu\", True, 3+5j]\n",
        "print(\"duplikasi pada list L3:\", L3)\n",
        "\n",
        "L3 = [1, \"satu\", True, 3+5j]\n",
        "L3[2] = 3\n",
        "print(\"Data setelah diubah:\", L3)\n",
        "\n",
        "L3 = [1, \"satu\", True, 3+5j]\n",
        "L3.append(10)\n",
        "print(\"data setelah ditambahkan elemennya:\", L3)\n",
        "\n",
        "L3 = [1, \"satu\", True, 3+5j]\n",
        "L3.remove(3+5j)\n",
        "print(\"Data setelah dihapus elemennya:\", L3)"
      ],
      "metadata": {
        "id": "XjcL7VuZYaf-",
        "colab": {
          "base_uri": "https://localhost:8080/"
        },
        "outputId": "897446f0-ed28-4bda-eafe-085cba9cff9f"
      },
      "execution_count": 5,
      "outputs": [
        {
          "output_type": "stream",
          "name": "stdout",
          "text": [
            "Memanggil List L3 dengan indeks urutan: [1, 'satu', True]\n",
            "List L3 setelah diganti elemennya: [1, 2, True, (3+5j)]\n",
            "Slicing List L3: (3+5j)\n",
            "duplikasi pada list L3: [1, 'satu', True, (3+5j)]\n",
            "Data setelah diubah: [1, 'satu', 3, (3+5j)]\n",
            "data setelah ditambahkan elemennya: [1, 'satu', True, (3+5j), 10]\n",
            "Data setelah dihapus elemennya: [1, 'satu', True]\n"
          ]
        }
      ]
    }
  ]
}